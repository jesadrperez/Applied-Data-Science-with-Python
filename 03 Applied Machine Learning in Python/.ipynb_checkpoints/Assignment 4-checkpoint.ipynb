{
 "cells": [
  {
   "cell_type": "markdown",
   "metadata": {},
   "source": [
    "---\n",
    "\n",
    "_You are currently looking at **version 1.0** of this notebook. To download notebooks and datafiles, as well as get help on Jupyter notebooks in the Coursera platform, visit the [Jupyter Notebook FAQ](https://www.coursera.org/learn/python-machine-learning/resources/bANLa) course resource._\n",
    "\n",
    "---"
   ]
  },
  {
   "cell_type": "markdown",
   "metadata": {},
   "source": [
    "## Assignment 4 - Understanding and Predicting Property Maintenance Fines\n",
    "\n",
    "This assignment is based on a data challenge from the Michigan Data Science Team ([MDST](http://midas.umich.edu/mdst/)). \n",
    "\n",
    "The Michigan Data Science Team ([MDST](http://midas.umich.edu/mdst/)) and the Michigan Student Symposium for Interdisciplinary Statistical Sciences ([MSSISS](https://sites.lsa.umich.edu/mssiss/)) have partnered with the City of Detroit to help solve one of the most pressing problems facing Detroit - blight. [Blight violations](http://www.detroitmi.gov/How-Do-I/Report/Blight-Complaint-FAQs) are issued by the city to individuals who allow their properties to remain in a deteriorated condition. Every year, the city of Detroit issues millions of dollars in fines to residents and every year, many of these fines remain unpaid. Enforcing unpaid blight fines is a costly and tedious process, so the city wants to know: how can we increase blight ticket compliance?\n",
    "\n",
    "The first step in answering this question is understanding when and why a resident might fail to comply with a blight ticket. This is where predictive modeling comes in. For this assignment, your task is to predict whether a given blight ticket will be paid on time.\n",
    "\n",
    "All data for this assignment has been provided to us through the [Detroit Open Data Portal](https://data.detroitmi.gov/). **Only the data already included in your Coursera directory can be used for training the model for this assignment.** Nonetheless, we encourage you to look into data from other Detroit datasets to help inform feature creation and model selection. We recommend taking a look at the following related datasets:\n",
    "\n",
    "* [Building Permits](https://data.detroitmi.gov/Property-Parcels/Building-Permits/xw2a-a7tf)\n",
    "* [Trades Permits](https://data.detroitmi.gov/Property-Parcels/Trades-Permits/635b-dsgv)\n",
    "* [Improve Detroit: Submitted Issues](https://data.detroitmi.gov/Government/Improve-Detroit-Submitted-Issues/fwz3-w3yn)\n",
    "* [DPD: Citizen Complaints](https://data.detroitmi.gov/Public-Safety/DPD-Citizen-Complaints-2016/kahe-efs3)\n",
    "* [Parcel Map](https://data.detroitmi.gov/Property-Parcels/Parcel-Map/fxkw-udwf)\n",
    "\n",
    "___\n",
    "\n",
    "We provide you with two data files for use in training and validating your models: train.csv and test.csv. Each row in these two files corresponds to a single blight ticket, and includes information about when, why, and to whom each ticket was issued. The target variable is compliance, which is True if the ticket was paid early, on time, or within one month of the hearing data, False if the ticket was paid after the hearing date or not at all, and Null if the violator was found not responsible. Compliance, as well as a handful of other variables that will not be available at test-time, are only included in train.csv.\n",
    "\n",
    "Note: All tickets where the violators were found not responsible are not considered during evaluation. They are included in the training set as an additional source of data for visualization, and to enable unsupervised and semi-supervised approaches. However, they are not included in the test set.\n",
    "\n",
    "<br>\n",
    "\n",
    "**File descriptions** (Use only this data for training your model!)\n",
    "\n",
    "    train.csv - the training set (all tickets issued 2004-2011)\n",
    "    test.csv - the test set (all tickets issued 2012-2016)\n",
    "    addresses.csv & latlons.csv - mapping from ticket id to addresses, and from addresses to lat/lon coordinates. \n",
    "     Note: misspelled addresses may be incorrectly geolocated.\n",
    "\n",
    "<br>\n",
    "\n",
    "**Data fields**\n",
    "\n",
    "train.csv & test.csv\n",
    "\n",
    "    ticket_id - unique identifier for tickets\n",
    "    agency_name - Agency that issued the ticket\n",
    "    inspector_name - Name of inspector that issued the ticket\n",
    "    violator_name - Name of the person/organization that the ticket was issued to\n",
    "    violation_street_number, violation_street_name, violation_zip_code - Address where the violation occurred\n",
    "    mailing_address_str_number, mailing_address_str_name, city, state, zip_code, non_us_str_code, country - Mailing address of the violator\n",
    "    ticket_issued_date - Date and time the ticket was issued\n",
    "    hearing_date - Date and time the violator's hearing was scheduled\n",
    "    violation_code, violation_description - Type of violation\n",
    "    disposition - Judgment and judgement type\n",
    "    fine_amount - Violation fine amount, excluding fees\n",
    "    admin_fee - $20 fee assigned to responsible judgments\n",
    "state_fee - $10 fee assigned to responsible judgments\n",
    "    late_fee - 10% fee assigned to responsible judgments\n",
    "    discount_amount - discount applied, if any\n",
    "    clean_up_cost - DPW clean-up or graffiti removal cost\n",
    "    judgment_amount - Sum of all fines and fees\n",
    "    grafitti_status - Flag for graffiti violations\n",
    "    \n",
    "train.csv only\n",
    "\n",
    "    payment_amount - Amount paid, if any\n",
    "    payment_date - Date payment was made, if it was received\n",
    "    payment_status - Current payment status as of Feb 1 2017\n",
    "    balance_due - Fines and fees still owed\n",
    "    collection_status - Flag for payments in collections\n",
    "    compliance [target variable for prediction] \n",
    "     Null = Not responsible\n",
    "     0 = Responsible, non-compliant\n",
    "     1 = Responsible, compliant\n",
    "    compliance_detail - More information on why each ticket was marked compliant or non-compliant\n",
    "\n",
    "\n",
    "___\n",
    "\n",
    "## Evaluation\n",
    "\n",
    "Your predictions will be given as the probability that the corresponding blight ticket will be paid on time.\n",
    "\n",
    "The evaluation metric for this assignment is the Area Under the ROC Curve (AUC). \n",
    "\n",
    "Your grade will be based on the AUC score computed for your classifier. A model which with an AUROC of 0.7 passes this assignment, over 0.75 will recieve full points.\n",
    "___\n",
    "\n",
    "For this assignment, create a function that trains a model to predict blight ticket compliance in Detroit using `train.csv`. Using this model, return a series of length 61001 with the data being the probability that each corresponding ticket from `test.csv` will be paid, and the index being the ticket_id.\n",
    "\n",
    "Example:\n",
    "\n",
    "    ticket_id\n",
    "       284932    0.531842\n",
    "       285362    0.401958\n",
    "       285361    0.105928\n",
    "       285338    0.018572\n",
    "                 ...\n",
    "       376499    0.208567\n",
    "       376500    0.818759\n",
    "       369851    0.018528\n",
    "       Name: compliance, dtype: float32"
   ]
  },
  {
   "cell_type": "code",
   "execution_count": 7,
   "metadata": {
    "collapsed": true
   },
   "outputs": [],
   "source": [
    "import pandas as pd\n",
    "import numpy as np"
   ]
  },
  {
   "cell_type": "code",
   "execution_count": 1,
   "metadata": {
    "collapsed": true
   },
   "outputs": [],
   "source": [
    "def import_data(data_set):\n",
    "    import pandas as pd\n",
    "    import numpy as np\n",
    "    \n",
    "    blight_df = pd.read_csv(data_set+\".csv\", encoding = 'ISO-8859-1')\n",
    "    \n",
    "    # Set Index\n",
    "    blight_df.set_index('ticket_id', inplace=True)\n",
    "    \n",
    "    if data_set == 'train':\n",
    "        blight_df = blight_df[['agency_name', 'inspector_name', 'violator_name','violation_street_number', 'violation_street_name', \n",
    "                       'mailing_address_str_number', 'mailing_address_str_name', 'city', 'state', 'zip_code', 'country', \n",
    "                       'ticket_issued_date', 'hearing_date', 'violation_code', 'violation_description', 'disposition', \n",
    "                       'fine_amount', 'admin_fee', 'state_fee', 'late_fee', 'discount_amount','clean_up_cost', \n",
    "                       'judgment_amount', 'compliance']]\n",
    "    else:\n",
    "        blight_df = blight_df[['agency_name', 'inspector_name', 'violator_name','violation_street_number', 'violation_street_name', \n",
    "                       'mailing_address_str_number', 'mailing_address_str_name', 'city', 'state', 'zip_code', 'country', \n",
    "                       'ticket_issued_date', 'hearing_date', 'violation_code', 'violation_description', 'disposition', \n",
    "                       'fine_amount', 'admin_fee', 'state_fee', 'late_fee', 'discount_amount','clean_up_cost', \n",
    "                       'judgment_amount']]           \n",
    "    return blight_df"
   ]
  },
  {
   "cell_type": "code",
   "execution_count": 2,
   "metadata": {
    "collapsed": true
   },
   "outputs": [],
   "source": [
    "def clean_data_set(blight_df):\n",
    "    import pandas as pd\n",
    "    import numpy as np\n",
    "    \n",
    "    # Variable Cleanups\n",
    "    blight_df['ticket_issued_date'] = pd.to_datetime(blight_df['ticket_issued_date']).dt.date\n",
    "    blight_df['hearing_date'] = pd.to_datetime(blight_df['hearing_date']).dt.date\n",
    "\n",
    "    #blight_df['days_inbetween'] = abs(blight_df['hearing_date']-blight_df['ticket_issued_date'])\n",
    "    #blight_df['days_inbetween'] = blight_df['days_inbetween'].dt.days.astype(int)\n",
    "\n",
    "    blight_df['violation_code'] = blight_df['violation_code'].str.split('(').str[0]\n",
    "    blight_df['violation_code'] = blight_df['violation_code'].str.split('/').str[0]\n",
    "    blight_df['violation_code'] = blight_df['violation_code'].str.split(' -').str[0]\n",
    "    blight_df['violation_code'] = blight_df['violation_code'].str.split(' ').str[0]\n",
    "\n",
    "    blight_df['zip_code'] = blight_df['zip_code'].apply(str)\n",
    "    blight_df['zip_code'] = blight_df['zip_code'].str.split('-').str[0]\n",
    "\n",
    "    blight_df['city'] = blight_df['city'].str.lower()\n",
    "    \n",
    "    blight_df['violator_name'] = blight_df['violator_name'].astype(str)\n",
    "    blight_df['violator_name'] = blight_df['violator_name'].str.split(',').str[1]+' '+blight_df['violator_name'].str.split(',').str[0]\n",
    "    blight_df['violator_name'] = blight_df['violator_name'].str.lower()\n",
    "    blight_df['violator_name'] = blight_df['violator_name'].str.lstrip()\n",
    "    blight_df['violator_name'] = blight_df['violator_name'].str.replace('investments','investment')\n",
    "    blight_df['violator_name'] = blight_df['violator_name'].str.replace(' copany',' company')\n",
    "    blight_df['violator_name'] = blight_df['violator_name'].str.replace(' company',' co')\n",
    "    blight_df['violator_name'] = blight_df['violator_name'].str.replace(' co.',' co')\n",
    "    blight_df['violator_name'] = blight_df['violator_name'].str.replace(' copany',' company')\n",
    "    blight_df['violator_name'] = blight_df['violator_name'].str.replace(' company',' co')\n",
    "    blight_df['violator_name'] = blight_df['violator_name'].str.replace(' co.',' co')\n",
    "    blight_df['violator_name'] = blight_df['violator_name'].str.replace(' co ','')\n",
    "    blight_df['violator_name'] = blight_df['violator_name'].str.replace('.','')\n",
    "    blight_df['violator_name'] = blight_df['violator_name'].str.replace('  ',' ')\n",
    "    blight_df['violator_name'] = blight_df['violator_name'].str.replace('association','assoc')\n",
    "\n",
    "    blight_df['violation_street_name'] = blight_df['violation_street_name'].str.lower()\n",
    "    blight_df['violation_street_name'] = blight_df['violation_street_name'].str.split(' ').str[0]\n",
    "    \n",
    "    return blight_df"
   ]
  },
  {
   "cell_type": "code",
   "execution_count": 3,
   "metadata": {},
   "outputs": [
    {
     "name": "stderr",
     "output_type": "stream",
     "text": [
      "/opt/conda/lib/python3.5/site-packages/IPython/core/interactiveshell.py:2821: DtypeWarning: Columns (11,12,31) have mixed types. Specify dtype option on import or set low_memory=False.\n",
      "  if self.run_code(code, result):\n"
     ]
    }
   ],
   "source": [
    "train_df = import_data('train')\n",
    "train_df = clean_data_set(train_df)\n",
    "train_df['set'] = 'train'"
   ]
  },
  {
   "cell_type": "code",
   "execution_count": 4,
   "metadata": {
    "collapsed": true
   },
   "outputs": [],
   "source": [
    "test_df = import_data('test')\n",
    "test_df = clean_data_set(test_df)\n",
    "test_df['set'] = 'test'"
   ]
  },
  {
   "cell_type": "code",
   "execution_count": 5,
   "metadata": {
    "collapsed": true
   },
   "outputs": [],
   "source": [
    "blight_df = train_df.append(test_df)"
   ]
  },
  {
   "cell_type": "code",
   "execution_count": 6,
   "metadata": {
    "collapsed": true
   },
   "outputs": [],
   "source": [
    "from sklearn import preprocessing\n",
    "\n",
    "# Convert cat varibles to numeric variables\n",
    "le = preprocessing.LabelEncoder()\n",
    "trans_col = ['agency_name', 'inspector_name', 'violator_name', 'violation_street_name', 'mailing_address_str_name', \n",
    "             'city', 'state', 'zip_code', 'country', 'ticket_issued_date', 'hearing_date', 'violation_code', \n",
    "             'violation_description', 'disposition']\n",
    "for col in trans_col:\n",
    "    le.fit(blight_df[col].astype(str))\n",
    "    blight_df[col] = le.transform(blight_df[col].astype(str))"
   ]
  },
  {
   "cell_type": "code",
   "execution_count": 8,
   "metadata": {
    "scrolled": true
   },
   "outputs": [
    {
     "name": "stderr",
     "output_type": "stream",
     "text": [
      "/opt/conda/lib/python3.5/site-packages/ipykernel/__main__.py:2: SettingWithCopyWarning: \n",
      "A value is trying to be set on a copy of a slice from a DataFrame\n",
      "\n",
      "See the caveats in the documentation: http://pandas.pydata.org/pandas-docs/stable/indexing.html#indexing-view-versus-copy\n",
      "  from ipykernel import kernelapp as app\n"
     ]
    }
   ],
   "source": [
    "train_df = blight_df[blight_df['set']=='train']\n",
    "train_df.drop(['set'], axis=1, inplace=True)"
   ]
  },
  {
   "cell_type": "code",
   "execution_count": 9,
   "metadata": {},
   "outputs": [
    {
     "name": "stderr",
     "output_type": "stream",
     "text": [
      "/opt/conda/lib/python3.5/site-packages/ipykernel/__main__.py:2: SettingWithCopyWarning: \n",
      "A value is trying to be set on a copy of a slice from a DataFrame\n",
      "\n",
      "See the caveats in the documentation: http://pandas.pydata.org/pandas-docs/stable/indexing.html#indexing-view-versus-copy\n",
      "  from ipykernel import kernelapp as app\n"
     ]
    }
   ],
   "source": [
    "test_df = blight_df[blight_df['set']=='test']\n",
    "test_df.drop(['set', 'compliance'], axis=1, inplace=True)"
   ]
  },
  {
   "cell_type": "code",
   "execution_count": 10,
   "metadata": {
    "collapsed": true
   },
   "outputs": [],
   "source": [
    "# Removes NaN from Variables\n",
    "for col in train_df.columns:\n",
    "    train_df = train_df[~train_df[col].isnull()]"
   ]
  },
  {
   "cell_type": "code",
   "execution_count": 11,
   "metadata": {
    "collapsed": true
   },
   "outputs": [],
   "source": [
    "X = train_df.iloc[:,train_df.columns != 'compliance']\n",
    "y = train_df.iloc[:,train_df.columns == 'compliance']"
   ]
  },
  {
   "cell_type": "code",
   "execution_count": 13,
   "metadata": {
    "collapsed": true
   },
   "outputs": [],
   "source": [
    "from sklearn.ensemble import ExtraTreesClassifier\n",
    "from sklearn import metrics\n",
    "\n",
    "# Build a forest and compute the feature importances\n",
    "forest = ExtraTreesClassifier(n_estimators=100, random_state=0, n_jobs=-1, max_features='auto', max_depth=5, )\n",
    "forest.fit(X, y.iloc[:,0])\n",
    "\n",
    "# Print the feature ranking\n",
    "#print(\"Feature ranking:\")\n",
    "\n",
    "importances = forest.feature_importances_\n",
    "indices = np.argsort(-forest.feature_importances_, )\n",
    "\n",
    "#for f in range(X.shape[1]):\n",
    "#    print(\"%d. %s (%f)\" % (f + 1, X.columns[f], importances[indices[f]]))"
   ]
  },
  {
   "cell_type": "code",
   "execution_count": 14,
   "metadata": {},
   "outputs": [
    {
     "name": "stderr",
     "output_type": "stream",
     "text": [
      "/opt/conda/lib/python3.5/site-packages/ipykernel/__main__.py:1: SettingWithCopyWarning: \n",
      "A value is trying to be set on a copy of a slice from a DataFrame.\n",
      "Try using .loc[row_indexer,col_indexer] = value instead\n",
      "\n",
      "See the caveats in the documentation: http://pandas.pydata.org/pandas-docs/stable/indexing.html#indexing-view-versus-copy\n",
      "  if __name__ == '__main__':\n"
     ]
    }
   ],
   "source": [
    "test_df['mailing_address_str_number'] = 0"
   ]
  },
  {
   "cell_type": "code",
   "execution_count": 15,
   "metadata": {
    "collapsed": true,
    "scrolled": true
   },
   "outputs": [],
   "source": [
    "from sklearn.feature_selection import SelectFromModel\n",
    "\n",
    "model = SelectFromModel(forest, prefit=True)\n",
    "X_new = model.transform(X)\n",
    "test_new = model.transform(test_df)"
   ]
  },
  {
   "cell_type": "code",
   "execution_count": 22,
   "metadata": {
    "collapsed": true,
    "scrolled": true
   },
   "outputs": [],
   "source": [
    "from sklearn.neural_network import MLPClassifier\n",
    "from sklearn import metrics\n",
    "\n",
    "nnclf = MLPClassifier(hidden_layer_sizes = [18], activation='relu', solver='adam', random_state = 0, alpha = 5).fit(X_new, y.iloc[:,0])\n",
    "\n",
    "#y_probs = nnclf.predict_proba(X_test)\n",
    "#plot_auc(y_test, y_probs[:,1])"
   ]
  },
  {
   "cell_type": "code",
   "execution_count": 23,
   "metadata": {
    "collapsed": true
   },
   "outputs": [],
   "source": [
    "y_probs = nnclf.predict_proba(test_new)"
   ]
  },
  {
   "cell_type": "code",
   "execution_count": 24,
   "metadata": {
    "collapsed": true
   },
   "outputs": [],
   "source": [
    "def blight_model():\n",
    "    \n",
    "    # Your code here\n",
    "    \n",
    "    return pd.Series(y_probs[:,1], index=test_df.index)"
   ]
  }
 ],
 "metadata": {
  "coursera": {
   "course_slug": "python-machine-learning",
   "graded_item_id": "nNS8l",
   "launcher_item_id": "yWWk7",
   "part_id": "w8BSS"
  },
  "kernelspec": {
   "display_name": "Python 3",
   "language": "python",
   "name": "python3"
  },
  "language_info": {
   "codemirror_mode": {
    "name": "ipython",
    "version": 3
   },
   "file_extension": ".py",
   "mimetype": "text/x-python",
   "name": "python",
   "nbconvert_exporter": "python",
   "pygments_lexer": "ipython3",
   "version": "3.6.1"
  }
 },
 "nbformat": 4,
 "nbformat_minor": 2
}
