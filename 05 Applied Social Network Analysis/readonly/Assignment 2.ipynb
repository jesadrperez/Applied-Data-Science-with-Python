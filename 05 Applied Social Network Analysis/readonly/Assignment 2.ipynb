{
 "cells": [
  {
   "cell_type": "markdown",
   "metadata": {},
   "source": [
    "---\n",
    "\n",
    "_You are currently looking at **version 1.0** of this notebook. To download notebooks and datafiles, as well as get help on Jupyter notebooks in the Coursera platform, visit the [Jupyter Notebook FAQ](https://www.coursera.org/learn/python-social-network-analysis/resources/yPcBs) course resource._\n",
    "\n",
    "---"
   ]
  },
  {
   "cell_type": "markdown",
   "metadata": {},
   "source": [
    "# Assignment 2 - Network Connectivity\n",
    "\n",
    "In this assignment you will go through the process of importing and analyzing an internal email communication network between employees of a mid-sized manufacturing company. \n",
    "Each node represents an employee and each directed edge between two nodes represents an individual email. The left node represents the sender and the right node represents the recipient."
   ]
  },
  {
   "cell_type": "code",
   "execution_count": 1,
   "metadata": {},
   "outputs": [
    {
     "name": "stdout",
     "output_type": "stream",
     "text": [
      "#Sender\tRecipient\ttime\r\n",
      "1\t2\t1262454010\r\n",
      "1\t3\t1262454010\r\n",
      "1\t4\t1262454010\r\n",
      "1\t5\t1262454010\r\n",
      "1\t6\t1262454010\r\n",
      "1\t7\t1262454010\r\n",
      "1\t8\t1262454010\r\n",
      "1\t9\t1262454010\r\n",
      "1\t10\t1262454010\r\n"
     ]
    }
   ],
   "source": [
    "import networkx as nx\n",
    "\n",
    "# This line must be commented out when submitting to the autograder\n",
    "#!head email_network.txt"
   ]
  },
  {
   "cell_type": "markdown",
   "metadata": {},
   "source": [
    "### Question 1\n",
    "\n",
    "Using networkx, load up the directed multigraph from `email_network.txt`. Make sure the node names are strings.\n",
    "\n",
    "*This function should return a directed multigraph networkx graph.*"
   ]
  },
  {
   "cell_type": "code",
   "execution_count": 2,
   "metadata": {
    "collapsed": true
   },
   "outputs": [],
   "source": [
    "def answer_one():\n",
    "    \n",
    "    # Your Code Here\n",
    "    \n",
    "    return # Your Answer Here"
   ]
  },
  {
   "cell_type": "markdown",
   "metadata": {},
   "source": [
    "### Question 2\n",
    "\n",
    "How many employees and emails are represented in the graph from Question 1 have?\n",
    "\n",
    "*This function should return a tuple (#employees, #emails).*"
   ]
  },
  {
   "cell_type": "code",
   "execution_count": 4,
   "metadata": {
    "collapsed": true
   },
   "outputs": [],
   "source": [
    "def answer_two():\n",
    "        \n",
    "    # Your Code Here\n",
    "    \n",
    "    return # Your Answer Here"
   ]
  },
  {
   "cell_type": "markdown",
   "metadata": {},
   "source": [
    "### Question 3\n",
    "\n",
    "* Part 1. Assume that information in this company can only be exchanged through email.\n",
    "\n",
    "    When an employee sends an email to another employee, a communication channel has been created, allowing the sender to provide information to the reciever, but not viceversa. \n",
    "\n",
    "    Based on the emails sent in the data, is it possible for information to go from every employee to every other employee?\n",
    "\n",
    "\n",
    "* Part 2. Now assume that a communication channel established by an email allows information to be exchanged both ways. \n",
    "\n",
    "    Based on the emails sent in the data, is it possible for information to go from every employee to every other employee?\n",
    "\n",
    "\n",
    "*This function should return a tuple of bools (part1, part2).*"
   ]
  },
  {
   "cell_type": "code",
   "execution_count": 6,
   "metadata": {
    "collapsed": true
   },
   "outputs": [],
   "source": [
    "def answer_three():\n",
    "        \n",
    "    # Your Code Here\n",
    "    \n",
    "    return # Your Answer Here"
   ]
  },
  {
   "cell_type": "markdown",
   "metadata": {},
   "source": [
    "### Question 4\n",
    "\n",
    "How many nodes are in the largest weakly connected component?\n",
    "\n",
    "*This function should return an int.*"
   ]
  },
  {
   "cell_type": "code",
   "execution_count": 8,
   "metadata": {
    "collapsed": true,
    "scrolled": true
   },
   "outputs": [],
   "source": [
    "def answer_four():\n",
    "        \n",
    "    # Your Code Here\n",
    "    \n",
    "    return # Your Answer Here"
   ]
  },
  {
   "cell_type": "markdown",
   "metadata": {},
   "source": [
    "### Question 5\n",
    "\n",
    "How many nodes are in the largest strongly connected component?\n",
    "\n",
    "*This function should return an int*"
   ]
  },
  {
   "cell_type": "code",
   "execution_count": 10,
   "metadata": {
    "collapsed": true
   },
   "outputs": [],
   "source": [
    "def answer_five():\n",
    "        \n",
    "    # Your Code Here\n",
    "    \n",
    "    return # Your Answer Here"
   ]
  },
  {
   "cell_type": "markdown",
   "metadata": {},
   "source": [
    "### Question 6\n",
    "\n",
    "Using the NetworkX function strongly_connected_component_subgraphs, find the subgraph of nodes in the largest strongly connected component. \n",
    "Call this graph G_sc.\n",
    "\n",
    "*This function should return a networkx MultiDiGraph named G_sc.*"
   ]
  },
  {
   "cell_type": "code",
   "execution_count": 12,
   "metadata": {
    "collapsed": true
   },
   "outputs": [],
   "source": [
    "def answer_six():\n",
    "        \n",
    "    # Your Code Here\n",
    "    \n",
    "    return # Your Answer Here"
   ]
  },
  {
   "cell_type": "markdown",
   "metadata": {},
   "source": [
    "### Question 7\n",
    "\n",
    "What is the average distance between nodes in G_sc?\n",
    "\n",
    "*This function should return a float.*"
   ]
  },
  {
   "cell_type": "code",
   "execution_count": 14,
   "metadata": {
    "collapsed": true
   },
   "outputs": [],
   "source": [
    "def answer_seven():\n",
    "        \n",
    "    # Your Code Here\n",
    "    \n",
    "    return # Your Answer Here"
   ]
  },
  {
   "cell_type": "markdown",
   "metadata": {},
   "source": [
    "### Question 8\n",
    "\n",
    "What is the largest possible distance between two employees in G_sc?\n",
    "\n",
    "*This function should return an int.*"
   ]
  },
  {
   "cell_type": "code",
   "execution_count": 16,
   "metadata": {
    "collapsed": true
   },
   "outputs": [],
   "source": [
    "def answer_eight():\n",
    "        \n",
    "    # Your Code Here\n",
    "    \n",
    "    return # Your Answer Here"
   ]
  },
  {
   "cell_type": "markdown",
   "metadata": {},
   "source": [
    "### Question 9\n",
    "\n",
    "What is the set of nodes in G_sc with eccentricity equal to the diameter?\n",
    "\n",
    "*This function should return a list of the node(s).*"
   ]
  },
  {
   "cell_type": "code",
   "execution_count": 18,
   "metadata": {
    "collapsed": true
   },
   "outputs": [],
   "source": [
    "def answer_nine():\n",
    "       \n",
    "    # Your Code Here\n",
    "    \n",
    "    return # Your Answer Here"
   ]
  },
  {
   "cell_type": "markdown",
   "metadata": {},
   "source": [
    "### Question 10\n",
    "\n",
    "What is the set of node(s) in G_sc with eccentricity equal to the radius?\n",
    "\n",
    "*This function should return a list of the node(s).*"
   ]
  },
  {
   "cell_type": "code",
   "execution_count": 20,
   "metadata": {
    "collapsed": true
   },
   "outputs": [],
   "source": [
    "def answer_ten():\n",
    "        \n",
    "    # Your Code Here\n",
    "    \n",
    "    return # Your Answer Here"
   ]
  },
  {
   "cell_type": "markdown",
   "metadata": {},
   "source": [
    "### Question 11\n",
    "\n",
    "Which node in G_sc has the most paths to other nodes whose distance equal the diameter of G_sc?\n",
    "\n",
    "\n",
    "How many of these paths are there?\n",
    "\n",
    "\n",
    "*This function should return a tuple (name of node, number of paths).*"
   ]
  },
  {
   "cell_type": "code",
   "execution_count": 47,
   "metadata": {
    "collapsed": true
   },
   "outputs": [],
   "source": [
    "def answer_eleven():\n",
    "        \n",
    "    # Your Code Here\n",
    "    \n",
    "    return # Your Answer Here"
   ]
  },
  {
   "cell_type": "markdown",
   "metadata": {},
   "source": [
    "### Question 12\n",
    "\n",
    "Suppose you want to prevent communication from flowing to the node that you found in the previous question from any node in the center of G_sc, what is the smallest number of nodes you would need to remove from the graph (you're not allowed to remove the node from the previous question or the center nodes)? \n",
    "\n",
    "*This function should return an integer.*"
   ]
  },
  {
   "cell_type": "code",
   "execution_count": 64,
   "metadata": {
    "collapsed": true
   },
   "outputs": [],
   "source": [
    "def answer_twelve():\n",
    "        \n",
    "    # Your Code Here\n",
    "    \n",
    "    return # Your Answer Here"
   ]
  },
  {
   "cell_type": "markdown",
   "metadata": {},
   "source": [
    "### Question 13\n",
    "\n",
    "Construct an undirected graph G_un using G_sc.\n",
    "\n",
    "\n",
    "*This function should return a networkx Graph.*"
   ]
  },
  {
   "cell_type": "code",
   "execution_count": 26,
   "metadata": {
    "collapsed": true
   },
   "outputs": [],
   "source": [
    "def answer_thirteen():\n",
    "        \n",
    "    # Your Code Here\n",
    "    \n",
    "    return # Your Answer Here"
   ]
  },
  {
   "cell_type": "markdown",
   "metadata": {},
   "source": [
    "### Question 14\n",
    "\n",
    "What is the transitivity and average clustering coefficient of graph G_un?\n",
    "\n",
    "*This function should return a tuple (transitivity, avg clutering).*"
   ]
  },
  {
   "cell_type": "code",
   "execution_count": 28,
   "metadata": {
    "collapsed": true
   },
   "outputs": [],
   "source": [
    "def answer_fourteen():\n",
    "        \n",
    "    # Your Code Here\n",
    "    \n",
    "    return # Your Answer Here"
   ]
  }
 ],
 "metadata": {
  "coursera": {
   "course_slug": "python-social-network-analysis",
   "graded_item_id": "jMCHR",
   "launcher_item_id": "7RsKp",
   "part_id": "E9gn5"
  },
  "kernelspec": {
   "display_name": "Python 3",
   "language": "python",
   "name": "python3"
  },
  "language_info": {
   "codemirror_mode": {
    "name": "ipython",
    "version": 3
   },
   "file_extension": ".py",
   "mimetype": "text/x-python",
   "name": "python",
   "nbconvert_exporter": "python",
   "pygments_lexer": "ipython3",
   "version": "3.6.0"
  }
 },
 "nbformat": 4,
 "nbformat_minor": 2
}
